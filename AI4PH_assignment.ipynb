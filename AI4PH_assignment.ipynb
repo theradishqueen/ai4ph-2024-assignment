{
 "cells": [
  {
   "cell_type": "markdown",
   "id": "beee52c6-ab03-4713-af0e-870b2bc83809",
   "metadata": {},
   "source": [
    "# **The purpose of this file is to demonstrate use of jupyter for AI4PH course**\n",
    "### This was created on 2024-02-13 to fulfil the requirements for the AI4PH course - The Tools for Data Science: Notebooks and Versioning.\n",
    "### Data for this assignment were available: https://data.ontario.ca/dataset/deaths-involving-covid-19-by-vaccination-status/resource/2aa6e2ce-40de-4910-a737-81762e014b0b\n"
   ]
  },
  {
   "cell_type": "markdown",
   "id": "80c74c54-fa6d-44ad-8684-2c2a09c0ce7a",
   "metadata": {},
   "source": [
    "## *Set up*\n",
    "### Import relevant packages"
   ]
  },
  {
   "cell_type": "code",
   "execution_count": 1,
   "id": "168466ec-d46e-43d7-83f9-4cf4e1b4b0fe",
   "metadata": {},
   "outputs": [
    {
     "name": "stdout",
     "output_type": "stream",
     "text": [
      "Requirement already satisfied: bs4 in c:\\users\\ingri\\appdata\\local\\programs\\python\\python312\\lib\\site-packages (0.0.2)\n",
      "Requirement already satisfied: beautifulsoup4 in c:\\users\\ingri\\appdata\\local\\programs\\python\\python312\\lib\\site-packages (from bs4) (4.12.3)\n",
      "Requirement already satisfied: soupsieve>1.2 in c:\\users\\ingri\\appdata\\local\\programs\\python\\python312\\lib\\site-packages (from beautifulsoup4->bs4) (2.5)\n",
      "Requirement already satisfied: selenium in c:\\users\\ingri\\appdata\\local\\programs\\python\\python312\\lib\\site-packages (4.17.2)\n",
      "Requirement already satisfied: urllib3<3,>=1.26 in c:\\users\\ingri\\appdata\\local\\programs\\python\\python312\\lib\\site-packages (from urllib3[socks]<3,>=1.26->selenium) (2.2.0)\n",
      "Requirement already satisfied: trio~=0.17 in c:\\users\\ingri\\appdata\\local\\programs\\python\\python312\\lib\\site-packages (from selenium) (0.24.0)\n",
      "Requirement already satisfied: trio-websocket~=0.9 in c:\\users\\ingri\\appdata\\local\\programs\\python\\python312\\lib\\site-packages (from selenium) (0.11.1)\n",
      "Requirement already satisfied: certifi>=2021.10.8 in c:\\users\\ingri\\appdata\\local\\programs\\python\\python312\\lib\\site-packages (from selenium) (2024.2.2)\n",
      "Requirement already satisfied: typing_extensions>=4.9.0 in c:\\users\\ingri\\appdata\\local\\programs\\python\\python312\\lib\\site-packages (from selenium) (4.9.0)\n",
      "Requirement already satisfied: attrs>=20.1.0 in c:\\users\\ingri\\appdata\\local\\programs\\python\\python312\\lib\\site-packages (from trio~=0.17->selenium) (23.2.0)\n",
      "Requirement already satisfied: sortedcontainers in c:\\users\\ingri\\appdata\\local\\programs\\python\\python312\\lib\\site-packages (from trio~=0.17->selenium) (2.4.0)\n",
      "Requirement already satisfied: idna in c:\\users\\ingri\\appdata\\local\\programs\\python\\python312\\lib\\site-packages (from trio~=0.17->selenium) (3.6)\n",
      "Requirement already satisfied: outcome in c:\\users\\ingri\\appdata\\local\\programs\\python\\python312\\lib\\site-packages (from trio~=0.17->selenium) (1.3.0.post0)\n",
      "Requirement already satisfied: sniffio>=1.3.0 in c:\\users\\ingri\\appdata\\local\\programs\\python\\python312\\lib\\site-packages (from trio~=0.17->selenium) (1.3.0)\n",
      "Requirement already satisfied: cffi>=1.14 in c:\\users\\ingri\\appdata\\local\\programs\\python\\python312\\lib\\site-packages (from trio~=0.17->selenium) (1.16.0)\n",
      "Requirement already satisfied: wsproto>=0.14 in c:\\users\\ingri\\appdata\\local\\programs\\python\\python312\\lib\\site-packages (from trio-websocket~=0.9->selenium) (1.2.0)\n",
      "Requirement already satisfied: pysocks!=1.5.7,<2.0,>=1.5.6 in c:\\users\\ingri\\appdata\\local\\programs\\python\\python312\\lib\\site-packages (from urllib3[socks]<3,>=1.26->selenium) (1.7.1)\n",
      "Requirement already satisfied: pycparser in c:\\users\\ingri\\appdata\\local\\programs\\python\\python312\\lib\\site-packages (from cffi>=1.14->trio~=0.17->selenium) (2.21)\n",
      "Requirement already satisfied: h11<1,>=0.9.0 in c:\\users\\ingri\\appdata\\local\\programs\\python\\python312\\lib\\site-packages (from wsproto>=0.14->trio-websocket~=0.9->selenium) (0.14.0)\n",
      "Requirement already satisfied: pandas in c:\\users\\ingri\\appdata\\local\\programs\\python\\python312\\lib\\site-packages (2.2.0)\n",
      "Requirement already satisfied: numpy<2,>=1.26.0 in c:\\users\\ingri\\appdata\\local\\programs\\python\\python312\\lib\\site-packages (from pandas) (1.26.4)\n",
      "Requirement already satisfied: python-dateutil>=2.8.2 in c:\\users\\ingri\\appdata\\local\\programs\\python\\python312\\lib\\site-packages (from pandas) (2.8.2)\n",
      "Requirement already satisfied: pytz>=2020.1 in c:\\users\\ingri\\appdata\\local\\programs\\python\\python312\\lib\\site-packages (from pandas) (2024.1)\n",
      "Requirement already satisfied: tzdata>=2022.7 in c:\\users\\ingri\\appdata\\local\\programs\\python\\python312\\lib\\site-packages (from pandas) (2024.1)\n",
      "Requirement already satisfied: six>=1.5 in c:\\users\\ingri\\appdata\\local\\programs\\python\\python312\\lib\\site-packages (from python-dateutil>=2.8.2->pandas) (1.16.0)\n",
      "Requirement already satisfied: html5lib in c:\\users\\ingri\\appdata\\local\\programs\\python\\python312\\lib\\site-packages (1.1)\n",
      "Requirement already satisfied: six>=1.9 in c:\\users\\ingri\\appdata\\local\\programs\\python\\python312\\lib\\site-packages (from html5lib) (1.16.0)\n",
      "Requirement already satisfied: webencodings in c:\\users\\ingri\\appdata\\local\\programs\\python\\python312\\lib\\site-packages (from html5lib) (0.5.1)\n",
      "Requirement already satisfied: matplotlib in c:\\users\\ingri\\appdata\\local\\programs\\python\\python312\\lib\\site-packages (3.8.2)\n",
      "Requirement already satisfied: contourpy>=1.0.1 in c:\\users\\ingri\\appdata\\local\\programs\\python\\python312\\lib\\site-packages (from matplotlib) (1.2.0)\n",
      "Requirement already satisfied: cycler>=0.10 in c:\\users\\ingri\\appdata\\local\\programs\\python\\python312\\lib\\site-packages (from matplotlib) (0.12.1)\n",
      "Requirement already satisfied: fonttools>=4.22.0 in c:\\users\\ingri\\appdata\\local\\programs\\python\\python312\\lib\\site-packages (from matplotlib) (4.48.1)\n",
      "Requirement already satisfied: kiwisolver>=1.3.1 in c:\\users\\ingri\\appdata\\local\\programs\\python\\python312\\lib\\site-packages (from matplotlib) (1.4.5)\n",
      "Requirement already satisfied: numpy<2,>=1.21 in c:\\users\\ingri\\appdata\\local\\programs\\python\\python312\\lib\\site-packages (from matplotlib) (1.26.4)\n",
      "Requirement already satisfied: packaging>=20.0 in c:\\users\\ingri\\appdata\\local\\programs\\python\\python312\\lib\\site-packages (from matplotlib) (23.2)\n",
      "Requirement already satisfied: pillow>=8 in c:\\users\\ingri\\appdata\\local\\programs\\python\\python312\\lib\\site-packages (from matplotlib) (10.2.0)\n",
      "Requirement already satisfied: pyparsing>=2.3.1 in c:\\users\\ingri\\appdata\\local\\programs\\python\\python312\\lib\\site-packages (from matplotlib) (3.1.1)\n",
      "Requirement already satisfied: python-dateutil>=2.7 in c:\\users\\ingri\\appdata\\local\\programs\\python\\python312\\lib\\site-packages (from matplotlib) (2.8.2)\n",
      "Requirement already satisfied: six>=1.5 in c:\\users\\ingri\\appdata\\local\\programs\\python\\python312\\lib\\site-packages (from python-dateutil>=2.7->matplotlib) (1.16.0)\n",
      "Requirement already satisfied: scikit-learn in c:\\users\\ingri\\appdata\\local\\programs\\python\\python312\\lib\\site-packages (1.4.0)\n",
      "Requirement already satisfied: numpy<2.0,>=1.19.5 in c:\\users\\ingri\\appdata\\local\\programs\\python\\python312\\lib\\site-packages (from scikit-learn) (1.26.4)\n",
      "Requirement already satisfied: scipy>=1.6.0 in c:\\users\\ingri\\appdata\\local\\programs\\python\\python312\\lib\\site-packages (from scikit-learn) (1.12.0)\n",
      "Requirement already satisfied: joblib>=1.2.0 in c:\\users\\ingri\\appdata\\local\\programs\\python\\python312\\lib\\site-packages (from scikit-learn) (1.3.2)\n",
      "Requirement already satisfied: threadpoolctl>=2.0.0 in c:\\users\\ingri\\appdata\\local\\programs\\python\\python312\\lib\\site-packages (from scikit-learn) (3.2.0)\n",
      "Requirement already satisfied: lxml in c:\\users\\ingri\\appdata\\local\\programs\\python\\python312\\lib\\site-packages (5.1.0)\n"
     ]
    }
   ],
   "source": [
    "#import relevant python packages\n",
    "!pip install bs4\n",
    "!pip install selenium\n",
    "!pip install pandas\n",
    "!pip install html5lib\n",
    "!pip install matplotlib\n",
    "!pip install scikit-learn\n",
    "!pip install lxml"
   ]
  },
  {
   "cell_type": "markdown",
   "id": "706cd2f5-2847-41e1-9b81-588b11a4b635",
   "metadata": {},
   "source": [
    "## Import data"
   ]
  },
  {
   "cell_type": "code",
   "execution_count": 40,
   "id": "6688c948-541a-406a-ba4e-66a86b22326d",
   "metadata": {},
   "outputs": [],
   "source": [
    "import requests"
   ]
  },
  {
   "cell_type": "code",
   "execution_count": 46,
   "id": "206a6fc9-40de-4000-8996-644c18c3f4fa",
   "metadata": {},
   "outputs": [],
   "source": [
    "url = \"https://data.ontario.ca/dataset/1375bb00-6454-4d3e-a723-4ae9e849d655/resource/2aa6e2ce-40de-4910-a737-81762e014b0b/download/deaths_by_vac_status.csv\"\n",
    "filename = 'deaths_by_vac_status.csv'\n",
    "headers = {'User-Agent': 'Mozilla/5.0 (Macintosh; Intel Mac OS X 10_10_1) AppleWebKit/537.36 (KHTML, like Gecko) Chrome/39.0.2171.95 Safari/537.36'}\n",
    "response = requests.get(url, headers=headers)"
   ]
  },
  {
   "cell_type": "code",
   "execution_count": 47,
   "id": "a328a416-e452-45d2-a0f6-4ca86b6084aa",
   "metadata": {},
   "outputs": [],
   "source": [
    "with open(filename, mode=\"wb\") as file:\n",
    "    file.write(response.content)"
   ]
  },
  {
   "cell_type": "code",
   "execution_count": 48,
   "id": "d697e978-596c-4930-b82b-9ca7f71b223a",
   "metadata": {},
   "outputs": [],
   "source": [
    "import pandas as pd\n",
    "filename = 'deaths_by_vac_status.csv'\n",
    "vax_stat = pd.read_csv(filename)"
   ]
  },
  {
   "cell_type": "code",
   "execution_count": 49,
   "id": "792d64be-6daa-47f1-9167-304eb7ff0642",
   "metadata": {},
   "outputs": [
    {
     "data": {
      "text/html": [
       "<div>\n",
       "<style scoped>\n",
       "    .dataframe tbody tr th:only-of-type {\n",
       "        vertical-align: middle;\n",
       "    }\n",
       "\n",
       "    .dataframe tbody tr th {\n",
       "        vertical-align: top;\n",
       "    }\n",
       "\n",
       "    .dataframe thead th {\n",
       "        text-align: right;\n",
       "    }\n",
       "</style>\n",
       "<table border=\"1\" class=\"dataframe\">\n",
       "  <thead>\n",
       "    <tr style=\"text-align: right;\">\n",
       "      <th></th>\n",
       "      <th>date</th>\n",
       "      <th>age_group</th>\n",
       "      <th>deaths_boost_vac_rate_7ma</th>\n",
       "      <th>deaths_full_vac_rate_7ma</th>\n",
       "      <th>deaths_not_full_vac_rate_7ma</th>\n",
       "    </tr>\n",
       "  </thead>\n",
       "  <tbody>\n",
       "    <tr>\n",
       "      <th>0</th>\n",
       "      <td>2021-03-01</td>\n",
       "      <td>0-4yrs</td>\n",
       "      <td>0.0</td>\n",
       "      <td>0.0</td>\n",
       "      <td>0.00</td>\n",
       "    </tr>\n",
       "    <tr>\n",
       "      <th>1</th>\n",
       "      <td>2021-03-01</td>\n",
       "      <td>5-11yrs</td>\n",
       "      <td>0.0</td>\n",
       "      <td>0.0</td>\n",
       "      <td>0.00</td>\n",
       "    </tr>\n",
       "    <tr>\n",
       "      <th>2</th>\n",
       "      <td>2021-03-01</td>\n",
       "      <td>12-17yrs</td>\n",
       "      <td>0.0</td>\n",
       "      <td>0.0</td>\n",
       "      <td>0.00</td>\n",
       "    </tr>\n",
       "    <tr>\n",
       "      <th>3</th>\n",
       "      <td>2021-03-01</td>\n",
       "      <td>18-39yrs</td>\n",
       "      <td>0.0</td>\n",
       "      <td>0.0</td>\n",
       "      <td>0.00</td>\n",
       "    </tr>\n",
       "    <tr>\n",
       "      <th>4</th>\n",
       "      <td>2021-03-01</td>\n",
       "      <td>40-59yrs</td>\n",
       "      <td>0.0</td>\n",
       "      <td>0.0</td>\n",
       "      <td>0.02</td>\n",
       "    </tr>\n",
       "  </tbody>\n",
       "</table>\n",
       "</div>"
      ],
      "text/plain": [
       "         date age_group  deaths_boost_vac_rate_7ma  deaths_full_vac_rate_7ma  \\\n",
       "0  2021-03-01    0-4yrs                        0.0                       0.0   \n",
       "1  2021-03-01   5-11yrs                        0.0                       0.0   \n",
       "2  2021-03-01  12-17yrs                        0.0                       0.0   \n",
       "3  2021-03-01  18-39yrs                        0.0                       0.0   \n",
       "4  2021-03-01  40-59yrs                        0.0                       0.0   \n",
       "\n",
       "   deaths_not_full_vac_rate_7ma  \n",
       "0                          0.00  \n",
       "1                          0.00  \n",
       "2                          0.00  \n",
       "3                          0.00  \n",
       "4                          0.02  "
      ]
     },
     "execution_count": 49,
     "metadata": {},
     "output_type": "execute_result"
    }
   ],
   "source": [
    "vax_stat.head()"
   ]
  },
  {
   "cell_type": "markdown",
   "id": "8746da6a-cf30-44f7-a7ff-eb7975d01892",
   "metadata": {},
   "source": [
    "## Descriptives"
   ]
  },
  {
   "cell_type": "code",
   "execution_count": 50,
   "id": "2cb5fd6f-a308-4ed4-9db4-26768ddfd687",
   "metadata": {},
   "outputs": [
    {
     "data": {
      "text/plain": [
       "date                             object\n",
       "age_group                        object\n",
       "deaths_boost_vac_rate_7ma       float64\n",
       "deaths_full_vac_rate_7ma        float64\n",
       "deaths_not_full_vac_rate_7ma    float64\n",
       "dtype: object"
      ]
     },
     "execution_count": 50,
     "metadata": {},
     "output_type": "execute_result"
    }
   ],
   "source": [
    "vax_stat.dtypes"
   ]
  },
  {
   "cell_type": "code",
   "execution_count": 51,
   "id": "c78d006b-68b8-45ec-8acf-ae150802e802",
   "metadata": {},
   "outputs": [
    {
     "data": {
      "text/html": [
       "<div>\n",
       "<style scoped>\n",
       "    .dataframe tbody tr th:only-of-type {\n",
       "        vertical-align: middle;\n",
       "    }\n",
       "\n",
       "    .dataframe tbody tr th {\n",
       "        vertical-align: top;\n",
       "    }\n",
       "\n",
       "    .dataframe thead th {\n",
       "        text-align: right;\n",
       "    }\n",
       "</style>\n",
       "<table border=\"1\" class=\"dataframe\">\n",
       "  <thead>\n",
       "    <tr style=\"text-align: right;\">\n",
       "      <th></th>\n",
       "      <th>deaths_boost_vac_rate_7ma</th>\n",
       "      <th>deaths_full_vac_rate_7ma</th>\n",
       "      <th>deaths_not_full_vac_rate_7ma</th>\n",
       "    </tr>\n",
       "  </thead>\n",
       "  <tbody>\n",
       "    <tr>\n",
       "      <th>count</th>\n",
       "      <td>7469.000000</td>\n",
       "      <td>7469.000000</td>\n",
       "      <td>7469.000000</td>\n",
       "    </tr>\n",
       "    <tr>\n",
       "      <th>mean</th>\n",
       "      <td>0.027142</td>\n",
       "      <td>0.027751</td>\n",
       "      <td>0.305552</td>\n",
       "    </tr>\n",
       "    <tr>\n",
       "      <th>std</th>\n",
       "      <td>0.072875</td>\n",
       "      <td>0.118505</td>\n",
       "      <td>1.323194</td>\n",
       "    </tr>\n",
       "    <tr>\n",
       "      <th>min</th>\n",
       "      <td>0.000000</td>\n",
       "      <td>0.000000</td>\n",
       "      <td>0.000000</td>\n",
       "    </tr>\n",
       "    <tr>\n",
       "      <th>25%</th>\n",
       "      <td>0.000000</td>\n",
       "      <td>0.000000</td>\n",
       "      <td>0.000000</td>\n",
       "    </tr>\n",
       "    <tr>\n",
       "      <th>50%</th>\n",
       "      <td>0.000000</td>\n",
       "      <td>0.000000</td>\n",
       "      <td>0.000000</td>\n",
       "    </tr>\n",
       "    <tr>\n",
       "      <th>75%</th>\n",
       "      <td>0.010000</td>\n",
       "      <td>0.010000</td>\n",
       "      <td>0.040000</td>\n",
       "    </tr>\n",
       "    <tr>\n",
       "      <th>max</th>\n",
       "      <td>0.810000</td>\n",
       "      <td>1.970000</td>\n",
       "      <td>18.330000</td>\n",
       "    </tr>\n",
       "  </tbody>\n",
       "</table>\n",
       "</div>"
      ],
      "text/plain": [
       "       deaths_boost_vac_rate_7ma  deaths_full_vac_rate_7ma  \\\n",
       "count                7469.000000               7469.000000   \n",
       "mean                    0.027142                  0.027751   \n",
       "std                     0.072875                  0.118505   \n",
       "min                     0.000000                  0.000000   \n",
       "25%                     0.000000                  0.000000   \n",
       "50%                     0.000000                  0.000000   \n",
       "75%                     0.010000                  0.010000   \n",
       "max                     0.810000                  1.970000   \n",
       "\n",
       "       deaths_not_full_vac_rate_7ma  \n",
       "count                   7469.000000  \n",
       "mean                       0.305552  \n",
       "std                        1.323194  \n",
       "min                        0.000000  \n",
       "25%                        0.000000  \n",
       "50%                        0.000000  \n",
       "75%                        0.040000  \n",
       "max                       18.330000  "
      ]
     },
     "execution_count": 51,
     "metadata": {},
     "output_type": "execute_result"
    }
   ],
   "source": [
    "vax_stat.describe()"
   ]
  },
  {
   "cell_type": "code",
   "execution_count": 63,
   "id": "2868f9f1-7608-4254-923e-1aa98be0087c",
   "metadata": {},
   "outputs": [
    {
     "data": {
      "text/plain": [
       "age_group\n",
       "ALL         1074\n",
       "60+         1073\n",
       "18-39yrs    1065\n",
       "40-59yrs    1065\n",
       "0-4yrs      1064\n",
       "5-11yrs     1064\n",
       "12-17yrs    1064\n",
       "Name: count, dtype: int64"
      ]
     },
     "execution_count": 63,
     "metadata": {},
     "output_type": "execute_result"
    }
   ],
   "source": [
    "vax_stat['age_group'].value_counts()"
   ]
  },
  {
   "cell_type": "code",
   "execution_count": 64,
   "id": "a0fd73ce-3449-4cde-b4fc-6346d963dfc7",
   "metadata": {},
   "outputs": [
    {
     "data": {
      "text/plain": [
       "age_group\n",
       "ALL         0.143794\n",
       "60+         0.143660\n",
       "18-39yrs    0.142589\n",
       "40-59yrs    0.142589\n",
       "0-4yrs      0.142455\n",
       "5-11yrs     0.142455\n",
       "12-17yrs    0.142455\n",
       "Name: proportion, dtype: float64"
      ]
     },
     "execution_count": 64,
     "metadata": {},
     "output_type": "execute_result"
    }
   ],
   "source": [
    "vax_stat['age_group'].value_counts(normalize=True)"
   ]
  },
  {
   "cell_type": "code",
   "execution_count": 70,
   "id": "01c2ad9a-bbaf-41cb-9114-09dbdb208f42",
   "metadata": {},
   "outputs": [
    {
     "data": {
      "text/plain": [
       "<Axes: xlabel='date'>"
      ]
     },
     "execution_count": 70,
     "metadata": {},
     "output_type": "execute_result"
    },
    {
     "data": {
      "image/png": "[encoded data removed]",
      "text/plain": [
       "<Figure size 640x480 with 1 Axes>"
      ]
     },
     "metadata": {},
     "output_type": "display_data"
    }
   ],
   "source": [
    "#Death rate for those not fully vaccinated\n",
    "vax_stat.groupby([vax_stat['date']])['deaths_not_full_vac_rate_7ma'].mean().plot()"
   ]
  },
  {
   "cell_type": "code",
   "execution_count": 75,
   "id": "d01bea32-3af0-48de-92b6-06b894a308b0",
   "metadata": {},
   "outputs": [
    {
     "data": {
      "text/plain": [
       "<Axes: xlabel='date'>"
      ]
     },
     "execution_count": 75,
     "metadata": {},
     "output_type": "execute_result"
    },
    {
     "data": {
      "image/png": "[encoded data removed]",
      "text/plain": [
       "<Figure size 640x480 with 1 Axes>"
      ]
     },
     "metadata": {},
     "output_type": "display_data"
    }
   ],
   "source": [
    "#Compared to death rate for those who are fully vaccinated\n",
    "vax_stat.groupby([vax_stat['date']])['deaths_full_vac_rate_7ma'].mean().plot()"
   ]
  },
  {
   "cell_type": "code",
   "execution_count": 74,
   "id": "1af4c4fb-ac06-47c0-b4ce-17a9635ab111",
   "metadata": {},
   "outputs": [
    {
     "data": {
      "text/html": [
       "<div>\n",
       "<style scoped>\n",
       "    .dataframe tbody tr th:only-of-type {\n",
       "        vertical-align: middle;\n",
       "    }\n",
       "\n",
       "    .dataframe tbody tr th {\n",
       "        vertical-align: top;\n",
       "    }\n",
       "\n",
       "    .dataframe thead th {\n",
       "        text-align: right;\n",
       "    }\n",
       "</style>\n",
       "<table border=\"1\" class=\"dataframe\">\n",
       "  <thead>\n",
       "    <tr style=\"text-align: right;\">\n",
       "      <th></th>\n",
       "      <th>age_group</th>\n",
       "      <th>deaths_full_vac_rate_7ma</th>\n",
       "    </tr>\n",
       "  </thead>\n",
       "  <tbody>\n",
       "    <tr>\n",
       "      <th>0</th>\n",
       "      <td>0-4yrs</td>\n",
       "      <td>0.000000</td>\n",
       "    </tr>\n",
       "    <tr>\n",
       "      <th>1</th>\n",
       "      <td>12-17yrs</td>\n",
       "      <td>0.000132</td>\n",
       "    </tr>\n",
       "    <tr>\n",
       "      <th>2</th>\n",
       "      <td>18-39yrs</td>\n",
       "      <td>0.000601</td>\n",
       "    </tr>\n",
       "    <tr>\n",
       "      <th>3</th>\n",
       "      <td>40-59yrs</td>\n",
       "      <td>0.006019</td>\n",
       "    </tr>\n",
       "    <tr>\n",
       "      <th>4</th>\n",
       "      <td>5-11yrs</td>\n",
       "      <td>0.000000</td>\n",
       "    </tr>\n",
       "    <tr>\n",
       "      <th>5</th>\n",
       "      <td>60+</td>\n",
       "      <td>0.158425</td>\n",
       "    </tr>\n",
       "    <tr>\n",
       "      <th>6</th>\n",
       "      <td>ALL</td>\n",
       "      <td>0.028017</td>\n",
       "    </tr>\n",
       "  </tbody>\n",
       "</table>\n",
       "</div>"
      ],
      "text/plain": [
       "  age_group  deaths_full_vac_rate_7ma\n",
       "0    0-4yrs                  0.000000\n",
       "1  12-17yrs                  0.000132\n",
       "2  18-39yrs                  0.000601\n",
       "3  40-59yrs                  0.006019\n",
       "4   5-11yrs                  0.000000\n",
       "5       60+                  0.158425\n",
       "6       ALL                  0.028017"
      ]
     },
     "execution_count": 74,
     "metadata": {},
     "output_type": "execute_result"
    }
   ],
   "source": [
    "vax_stat.groupby('age_group', as_index=False)['deaths_not_full_vac_rate_7ma'].mean()"
   ]
  },
  {
   "cell_type": "code",
   "execution_count": 72,
   "id": "be919610-9d65-4b4e-8bcb-c92cb1376df9",
   "metadata": {},
   "outputs": [
    {
     "data": {
      "text/html": [
       "<div>\n",
       "<style scoped>\n",
       "    .dataframe tbody tr th:only-of-type {\n",
       "        vertical-align: middle;\n",
       "    }\n",
       "\n",
       "    .dataframe tbody tr th {\n",
       "        vertical-align: top;\n",
       "    }\n",
       "\n",
       "    .dataframe thead th {\n",
       "        text-align: right;\n",
       "    }\n",
       "</style>\n",
       "<table border=\"1\" class=\"dataframe\">\n",
       "  <thead>\n",
       "    <tr style=\"text-align: right;\">\n",
       "      <th></th>\n",
       "      <th>age_group</th>\n",
       "      <th>deaths_full_vac_rate_7ma</th>\n",
       "    </tr>\n",
       "  </thead>\n",
       "  <tbody>\n",
       "    <tr>\n",
       "      <th>0</th>\n",
       "      <td>0-4yrs</td>\n",
       "      <td>0.000000</td>\n",
       "    </tr>\n",
       "    <tr>\n",
       "      <th>1</th>\n",
       "      <td>12-17yrs</td>\n",
       "      <td>0.000132</td>\n",
       "    </tr>\n",
       "    <tr>\n",
       "      <th>2</th>\n",
       "      <td>18-39yrs</td>\n",
       "      <td>0.000601</td>\n",
       "    </tr>\n",
       "    <tr>\n",
       "      <th>3</th>\n",
       "      <td>40-59yrs</td>\n",
       "      <td>0.006019</td>\n",
       "    </tr>\n",
       "    <tr>\n",
       "      <th>4</th>\n",
       "      <td>5-11yrs</td>\n",
       "      <td>0.000000</td>\n",
       "    </tr>\n",
       "    <tr>\n",
       "      <th>5</th>\n",
       "      <td>60+</td>\n",
       "      <td>0.158425</td>\n",
       "    </tr>\n",
       "    <tr>\n",
       "      <th>6</th>\n",
       "      <td>ALL</td>\n",
       "      <td>0.028017</td>\n",
       "    </tr>\n",
       "  </tbody>\n",
       "</table>\n",
       "</div>"
      ],
      "text/plain": [
       "  age_group  deaths_full_vac_rate_7ma\n",
       "0    0-4yrs                  0.000000\n",
       "1  12-17yrs                  0.000132\n",
       "2  18-39yrs                  0.000601\n",
       "3  40-59yrs                  0.006019\n",
       "4   5-11yrs                  0.000000\n",
       "5       60+                  0.158425\n",
       "6       ALL                  0.028017"
      ]
     },
     "execution_count": 72,
     "metadata": {},
     "output_type": "execute_result"
    }
   ],
   "source": [
    "vax_stat.groupby('age_group', as_index=False)['deaths_full_vac_rate_7ma'].mean()"
   ]
  },
  {
   "cell_type": "markdown",
   "id": "618dd917-0757-46f7-936f-8a806c5485c4",
   "metadata": {},
   "source": [
    "# High Level findings"
   ]
  },
  {
   "cell_type": "markdown",
   "id": "2d4974c5-b69b-47a2-b1ee-02fe54961c9e",
   "metadata": {},
   "source": [
    "In early 2021 there are a number of deaths occuring among those fully vaccinated. This may be due to vaccine eligibility at the time and overall risk of exposure, rather than vaccine status itself. Future work could consider exploration in this area. \n",
    "\n",
    "There was a peak in the death rate in winter of 2021/2022 for both those fully and not fully vaccinated, likely due to variant at the time. In the following months, the death rate was lower among those fully vaccinated compared to those without. \n",
    "\n",
    "Next steps should also evaluate age-specific death rates over time. "
   ]
  }
 ],
 "metadata": {
  "kernelspec": {
   "display_name": "Python 3 (ipykernel)",
   "language": "python",
   "name": "python3"
  },
  "language_info": {
   "codemirror_mode": {
    "name": "ipython",
    "version": 3
   },
   "file_extension": ".py",
   "mimetype": "text/x-python",
   "name": "python",
   "nbconvert_exporter": "python",
   "pygments_lexer": "ipython3",
   "version": "3.12.2"
  }
 },
 "nbformat": 4,
 "nbformat_minor": 5
}
